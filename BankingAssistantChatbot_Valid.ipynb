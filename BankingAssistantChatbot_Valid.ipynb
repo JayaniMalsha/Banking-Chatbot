{
 "cells": [
  {
   "cell_type": "markdown",
   "id": "81d49eae",
   "metadata": {},
   "source": [
    "\n",
    "# Banking Assistant Chatbot with Learning Mechanism\n",
    "This notebook demonstrates a simple banking chatbot with:\n",
    "- Natural Language Interface\n",
    "- Inference Engine\n",
    "- Knowledge Base (using SQLite)\n",
    "- Learning mechanism for unrecognized queries\n"
   ]
  },
  {
   "cell_type": "code",
   "execution_count": 1,
   "id": "4cf03afb",
   "metadata": {},
   "outputs": [
    {
     "name": "stdout",
     "output_type": "stream",
     "text": [
      "Requirement already satisfied: nltk in c:\\users\\stz\\appdata\\local\\programs\\python\\python312\\lib\\site-packages (3.8.1)\n",
      "Requirement already satisfied: click in c:\\users\\stz\\appdata\\local\\programs\\python\\python312\\lib\\site-packages (from nltk) (8.1.8)\n",
      "Requirement already satisfied: joblib in c:\\users\\stz\\appdata\\local\\programs\\python\\python312\\lib\\site-packages (from nltk) (1.4.2)\n",
      "Requirement already satisfied: regex>=2021.8.3 in c:\\users\\stz\\appdata\\local\\programs\\python\\python312\\lib\\site-packages (from nltk) (2024.11.6)\n",
      "Requirement already satisfied: tqdm in c:\\users\\stz\\appdata\\local\\programs\\python\\python312\\lib\\site-packages (from nltk) (4.67.1)\n",
      "Requirement already satisfied: colorama in c:\\users\\stz\\appdata\\local\\programs\\python\\python312\\lib\\site-packages (from click->nltk) (0.4.6)\n"
     ]
    },
    {
     "name": "stderr",
     "output_type": "stream",
     "text": [
      "\n",
      "[notice] A new release of pip is available: 24.0 -> 25.0.1\n",
      "[notice] To update, run: python.exe -m pip install --upgrade pip\n"
     ]
    }
   ],
   "source": [
    "# Install NLTK (if not installed)\n",
    "!pip install nltk\n"
   ]
  },
  {
   "cell_type": "code",
   "execution_count": 2,
   "id": "40569827",
   "metadata": {},
   "outputs": [
    {
     "name": "stderr",
     "output_type": "stream",
     "text": [
      "[nltk_data] Downloading package punkt to\n",
      "[nltk_data]     C:\\Users\\STZ\\AppData\\Roaming\\nltk_data...\n",
      "[nltk_data]   Package punkt is already up-to-date!\n"
     ]
    },
    {
     "data": {
      "text/plain": [
       "True"
      ]
     },
     "execution_count": 2,
     "metadata": {},
     "output_type": "execute_result"
    }
   ],
   "source": [
    "\n",
    "import nltk\n",
    "import sqlite3\n",
    "from nltk.tokenize import word_tokenize\n",
    "\n",
    "nltk.download('punkt')\n"
   ]
  },
  {
   "cell_type": "code",
   "execution_count": 3,
   "id": "e9d87de6",
   "metadata": {},
   "outputs": [],
   "source": [
    "\n",
    "# Initialize in-memory SQLite database\n",
    "conn = sqlite3.connect(':memory:')\n",
    "cursor = conn.cursor()\n",
    "\n",
    "# Table for static account types\n",
    "cursor.execute('''\n",
    "CREATE TABLE accounts (\n",
    "    id INTEGER PRIMARY KEY AUTOINCREMENT,\n",
    "    account_type TEXT NOT NULL\n",
    ")\n",
    "''')\n",
    "cursor.executemany('INSERT INTO accounts (account_type) VALUES (?)',\n",
    "                   [('Savings Account',), ('Current Account',), ('Fixed Deposit Account',)])\n",
    "conn.commit()\n",
    "\n",
    "# Table for unknown/learning queries\n",
    "cursor.execute('''\n",
    "CREATE TABLE IF NOT EXISTS learning (\n",
    "    id INTEGER PRIMARY KEY AUTOINCREMENT,\n",
    "    question TEXT NOT NULL\n",
    ")\n",
    "''')\n",
    "conn.commit()\n"
   ]
  },
  {
   "cell_type": "code",
   "execution_count": 4,
   "id": "0bacdf57",
   "metadata": {},
   "outputs": [],
   "source": [
    "\n",
    "# Static Q&A knowledge base\n",
    "static_responses = {\n",
    "    'hello': 'Hi there! How can I help you today?',\n",
    "    'thank you': 'You are welcome!',\n",
    "    'good morning': 'Good morning! How may I assist you?',\n",
    "    'help': 'Sure! I can help you with account types, basic queries, and more. Just ask!'\n",
    "}\n"
   ]
  },
  {
   "cell_type": "code",
   "execution_count": 5,
   "id": "0131aa96",
   "metadata": {},
   "outputs": [],
   "source": [
    "def get_response(user_input):\n",
    "    user_input = user_input.lower().strip()\n",
    "\n",
    "    # Check full input first for static responses\n",
    "    if user_input in static_responses:\n",
    "        return static_responses[user_input]\n",
    "\n",
    "    tokens = word_tokenize(user_input)\n",
    "\n",
    "    # Check for known single-word tokens\n",
    "    for token in tokens:\n",
    "        if token in static_responses:\n",
    "            return static_responses[token]\n",
    "\n",
    "    # Dynamic account query\n",
    "    if 'account' in tokens or 'accounts' in tokens:\n",
    "        cursor.execute('SELECT account_type FROM accounts')\n",
    "        accounts = cursor.fetchall()\n",
    "        return 'We offer the following accounts: ' + ', '.join([a[0] for a in accounts])\n",
    "\n",
    "    # Log unknown queries for learning\n",
    "    cursor.execute('INSERT INTO learning (question) VALUES (?)', (user_input,))\n",
    "    conn.commit()\n",
    "    return \"I'm sorry, I didn't understand that. Can you please rephrase?\"\n"
   ]
  },
  {
   "cell_type": "code",
   "execution_count": null,
   "id": "4554e3e9",
   "metadata": {},
   "outputs": [
    {
     "name": "stdin",
     "output_type": "stream",
     "text": [
      "You:  hello\n"
     ]
    },
    {
     "name": "stdout",
     "output_type": "stream",
     "text": [
      "Bot: Hi there! How can I help you today?\n"
     ]
    },
    {
     "name": "stdin",
     "output_type": "stream",
     "text": [
      "You:  good morning\n"
     ]
    },
    {
     "name": "stdout",
     "output_type": "stream",
     "text": [
      "Bot: Good morning! How may I assist you?\n"
     ]
    },
    {
     "name": "stdin",
     "output_type": "stream",
     "text": [
      "You:  help\n"
     ]
    },
    {
     "name": "stdout",
     "output_type": "stream",
     "text": [
      "Bot: Sure! I can help you with account types, basic queries, and more. Just ask!\n"
     ]
    },
    {
     "name": "stdin",
     "output_type": "stream",
     "text": [
      "You:  What types of accounts do you offer?\n"
     ]
    },
    {
     "name": "stdout",
     "output_type": "stream",
     "text": [
      "Bot: We offer the following accounts: Savings Account, Current Account, Fixed Deposit Account\n"
     ]
    },
    {
     "name": "stdin",
     "output_type": "stream",
     "text": [
      "You:  thank you\n"
     ]
    },
    {
     "name": "stdout",
     "output_type": "stream",
     "text": [
      "Bot: You are welcome!\n"
     ]
    },
    {
     "name": "stdin",
     "output_type": "stream",
     "text": [
      "You:  tell me about loan\n"
     ]
    },
    {
     "name": "stdout",
     "output_type": "stream",
     "text": [
      "Bot: I'm sorry, I didn't understand that. Can you please rephrase?\n"
     ]
    }
   ],
   "source": [
    "\n",
    "# Chat interface\n",
    "while True:\n",
    "    user_input = input(\"You: \")\n",
    "    if user_input.lower() in ['exit', 'quit']:\n",
    "        print(\"Bot: Thank you for chatting! Goodbye.\")\n",
    "        break\n",
    "    response = get_response(user_input)\n",
    "    print(f\"Bot: {response}\")\n"
   ]
  },
  {
   "cell_type": "code",
   "execution_count": null,
   "id": "929826c3-a1c3-433c-84d2-6d0218f30e13",
   "metadata": {},
   "outputs": [],
   "source": []
  }
 ],
 "metadata": {
  "kernelspec": {
   "display_name": "Python 3 (ipykernel)",
   "language": "python",
   "name": "python3"
  },
  "language_info": {
   "codemirror_mode": {
    "name": "ipython",
    "version": 3
   },
   "file_extension": ".py",
   "mimetype": "text/x-python",
   "name": "python",
   "nbconvert_exporter": "python",
   "pygments_lexer": "ipython3",
   "version": "3.12.4"
  }
 },
 "nbformat": 4,
 "nbformat_minor": 5
}
